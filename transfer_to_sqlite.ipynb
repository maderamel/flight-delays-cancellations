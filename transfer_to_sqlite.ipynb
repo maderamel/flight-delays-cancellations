{
 "cells": [
  {
   "cell_type": "code",
   "execution_count": 1,
   "id": "a6bcb489",
   "metadata": {},
   "outputs": [],
   "source": [
    "import csv\n",
    "import sqlite3"
   ]
  },
  {
   "cell_type": "code",
   "execution_count": 2,
   "id": "9fb2780e",
   "metadata": {},
   "outputs": [],
   "source": [
    "conn = sqlite3.connect('flight_cancellations.db')"
   ]
  },
  {
   "cell_type": "code",
   "execution_count": 3,
   "id": "067043ec",
   "metadata": {},
   "outputs": [],
   "source": [
    "cursor = conn.cursor()"
   ]
  },
  {
   "cell_type": "code",
   "execution_count": 4,
   "id": "6747dfb4",
   "metadata": {},
   "outputs": [
    {
     "data": {
      "text/plain": [
       "<sqlite3.Cursor at 0x7fb3b5427810>"
      ]
     },
     "execution_count": 4,
     "metadata": {},
     "output_type": "execute_result"
    }
   ],
   "source": [
    "cursor.execute('''\n",
    "    CREATE TABLE \"airline_delay_cause\" (\n",
    "        \"year\" INT not null, \n",
    "        \"month\" INT not null,\n",
    "        \"carrier\" VARCHAR(5) not null,\n",
    "        \"carrier_name\" VARCHAR(30) not null,\n",
    "        \"airport\" VARCHAR(5) not null,\n",
    "        \"airport_name\" VARCHAR(100) not null,\n",
    "        \"arr_flights\" VARCHAR(30),\n",
    "        \"arr_del15\" float,\n",
    "        \"carrier_ct\" float,\n",
    "        \"weather_ct\" float,\n",
    "        \"nas_ct\" float,\n",
    "        \"security_ct\" float,\n",
    "        \"late_aircraft\" float,\n",
    "        \"arr_cancelled\" float,\n",
    "        \"arr_diverted\" float,\n",
    "        \"arr_delayed\" float,\n",
    "        \"carrier_delay\" float,\n",
    "        \"weather_delay\" float,\n",
    "        \"nas_delay\" float,\n",
    "        \"security_delay\" float,\n",
    "        \"late_aircraft_delay\" float\n",
    "    );\n",
    "\n",
    "''')\n"
   ]
  },
  {
   "cell_type": "code",
   "execution_count": 6,
   "id": "c0ac1e77",
   "metadata": {},
   "outputs": [],
   "source": [
    "with open('Airline_Delay_Cause 2022.csv', 'r') as csvfile:\n",
    "    csvreader = csv.reader(csvfile)\n",
    "    next(csvreader)  # Skip header row if present\n",
    "    for row in csvreader:\n",
    "        cursor.execute('''\n",
    "            INSERT INTO airline_delay_cause ('year', 'month', 'carrier', 'carrier_name', 'airport', 'airport_name', 'arr_flights', 'arr_del15', 'carrier_ct', 'weather_ct', 'nas_ct', 'security_ct', 'late_aircraft', 'arr_cancelled', 'arr_diverted', 'arr_delayed', 'carrier_delay', 'weather_delay', 'nas_delay', 'security_delay', 'late_aircraft_delay')\n",
    "            VALUES (?, ?, ?, ?, ?, ?, ?, ?, ?, ?, ?, ?, ?, ?, ?, ?, ?, ?, ?, ?, ?)\n",
    "        ''', row)\n"
   ]
  },
  {
   "cell_type": "code",
   "execution_count": 7,
   "id": "0fad4f68",
   "metadata": {},
   "outputs": [],
   "source": [
    "conn.commit()\n",
    "conn.close()\n"
   ]
  },
  {
   "cell_type": "code",
   "execution_count": 9,
   "id": "61f1af46",
   "metadata": {},
   "outputs": [
    {
     "data": {
      "text/plain": [
       "'flight_cancellations.sqlite'"
      ]
     },
     "execution_count": 9,
     "metadata": {},
     "output_type": "execute_result"
    }
   ],
   "source": [
    "import shutil\n",
    "\n",
    "# Provide the source and destination paths for the SQLite database file\n",
    "source_file = 'flight_cancellations.db'\n",
    "destination_file = 'flight_cancellations.sqlite'\n",
    "\n",
    "# Copy the SQLite database file to the destination path\n",
    "shutil.copy2(source_file, destination_file)\n"
   ]
  },
  {
   "cell_type": "code",
   "execution_count": 10,
   "id": "4191773a",
   "metadata": {},
   "outputs": [],
   "source": [
    "import sqlalchemy\n",
    "from sqlalchemy.ext.automap import automap_base\n",
    "from sqlalchemy.orm import Session\n",
    "from sqlalchemy import create_engine, func\n",
    "\n",
    "from flask import Flask, jsonify"
   ]
  },
  {
   "cell_type": "code",
   "execution_count": 12,
   "id": "dcafaedc",
   "metadata": {},
   "outputs": [],
   "source": [
    "engine = create_engine(\"sqlite:///flight_cancellations.sqlite\")"
   ]
  },
  {
   "cell_type": "code",
   "execution_count": null,
   "id": "49ba805f",
   "metadata": {},
   "outputs": [],
   "source": []
  }
 ],
 "metadata": {
  "kernelspec": {
   "display_name": "Python 3 (ipykernel)",
   "language": "python",
   "name": "python3"
  },
  "language_info": {
   "codemirror_mode": {
    "name": "ipython",
    "version": 3
   },
   "file_extension": ".py",
   "mimetype": "text/x-python",
   "name": "python",
   "nbconvert_exporter": "python",
   "pygments_lexer": "ipython3",
   "version": "3.9.13"
  }
 },
 "nbformat": 4,
 "nbformat_minor": 5
}
