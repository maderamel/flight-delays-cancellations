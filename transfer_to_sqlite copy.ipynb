{
 "cells": [
  {
   "cell_type": "code",
   "execution_count": 1,
   "id": "a6bcb489",
   "metadata": {},
   "outputs": [],
   "source": [
    "import csv\n",
    "import sqlite3"
   ]
  },
  {
   "cell_type": "code",
   "execution_count": 2,
   "id": "9fb2780e",
   "metadata": {},
   "outputs": [],
   "source": [
    "conn = sqlite3.connect('airline_financial.db')"
   ]
  },
  {
   "cell_type": "code",
   "execution_count": 3,
   "id": "067043ec",
   "metadata": {},
   "outputs": [],
   "source": [
    "cursor = conn.cursor()"
   ]
  },
  {
   "cell_type": "code",
   "execution_count": 4,
   "id": "1e429f94",
   "metadata": {},
   "outputs": [
    {
     "data": {
      "text/plain": [
       "<sqlite3.Cursor at 0x7f9389c297a0>"
      ]
     },
     "execution_count": 4,
     "metadata": {},
     "output_type": "execute_result"
    }
   ],
   "source": [
    "cursor.execute('''\n",
    "    DROP TABLE \"airline_financial\";\n",
    "    ''')"
   ]
  },
  {
   "cell_type": "code",
   "execution_count": 5,
   "id": "6747dfb4",
   "metadata": {},
   "outputs": [
    {
     "data": {
      "text/plain": [
       "<sqlite3.Cursor at 0x7f9389c297a0>"
      ]
     },
     "execution_count": 5,
     "metadata": {},
     "output_type": "execute_result"
    }
   ],
   "source": [
    "cursor.execute(''' \n",
    "    CREATE TABLE \"airline_financial\" (\n",
    "        \"Year\" INT not null, \n",
    "        \"Quarter\" INT not null,\n",
    "        \"Airline_Id\" INT not null,\n",
    "        \"UniqueCarrierName\" VARCHAR(50) not null,\n",
    "        \"NetIncome\" INT not null\n",
    "    );\n",
    "\n",
    "''')\n"
   ]
  },
  {
   "cell_type": "code",
   "execution_count": 7,
   "id": "c0ac1e77",
   "metadata": {},
   "outputs": [],
   "source": [
    "with open('airline_financial.csv', 'r') as csvfile:\n",
    "    csvreader = csv.reader(csvfile)\n",
    "    next(csvreader)  # Skip header row if present\n",
    "    for row in csvreader:\n",
    "        cursor.execute('''\n",
    "            INSERT INTO airline_financial ('Year', 'Quarter', 'Airline_Id', 'UniqueCarrierName', 'NetIncome')\n",
    "            VALUES (?, ?, ?, ?, ?)\n",
    "        ''', row)\n"
   ]
  },
  {
   "cell_type": "code",
   "execution_count": 8,
   "id": "0fad4f68",
   "metadata": {},
   "outputs": [],
   "source": [
    "conn.commit()\n",
    "conn.close()\n"
   ]
  },
  {
   "cell_type": "code",
   "execution_count": 9,
   "id": "61f1af46",
   "metadata": {},
   "outputs": [
    {
     "data": {
      "text/plain": [
       "'airline_financial.sqlite'"
      ]
     },
     "execution_count": 9,
     "metadata": {},
     "output_type": "execute_result"
    }
   ],
   "source": [
    "import shutil\n",
    "\n",
    "# Provide the source and destination paths for the SQLite database file\n",
    "source_file = 'airline_financial.db'\n",
    "destination_file = 'airline_financial.sqlite'\n",
    "\n",
    "# Copy the SQLite database file to the destination path\n",
    "shutil.copy2(source_file, destination_file)\n"
   ]
  },
  {
   "cell_type": "code",
   "execution_count": 10,
   "id": "4191773a",
   "metadata": {},
   "outputs": [],
   "source": [
    "import sqlalchemy\n",
    "from sqlalchemy.ext.automap import automap_base\n",
    "from sqlalchemy.orm import Session\n",
    "from sqlalchemy import create_engine, func\n",
    "\n",
    "from flask import Flask, jsonify"
   ]
  },
  {
   "cell_type": "code",
   "execution_count": 11,
   "id": "dcafaedc",
   "metadata": {},
   "outputs": [],
   "source": [
    "engine = create_engine(\"sqlite:///airline_financial.sqlite\")"
   ]
  },
  {
   "cell_type": "code",
   "execution_count": null,
   "id": "49ba805f",
   "metadata": {},
   "outputs": [],
   "source": []
  }
 ],
 "metadata": {
  "kernelspec": {
   "display_name": "Python 3 (ipykernel)",
   "language": "python",
   "name": "python3"
  },
  "language_info": {
   "codemirror_mode": {
    "name": "ipython",
    "version": 3
   },
   "file_extension": ".py",
   "mimetype": "text/x-python",
   "name": "python",
   "nbconvert_exporter": "python",
   "pygments_lexer": "ipython3",
   "version": "3.9.13"
  }
 },
 "nbformat": 4,
 "nbformat_minor": 5
}
